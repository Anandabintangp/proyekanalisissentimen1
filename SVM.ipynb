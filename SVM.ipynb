{
 "cells": [
  {
   "cell_type": "markdown",
   "metadata": {
    "id": "fsLtEIKyPngU"
   },
   "source": [
    "# 1.Setup"
   ]
  },
  {
   "cell_type": "code",
   "execution_count": 2,
   "metadata": {
    "id": "8Kby5uW3Affv"
   },
   "outputs": [],
   "source": [
    "import pandas as pd\n",
    "from sklearn.model_selection import train_test_split\n",
    "from sklearn.feature_extraction.text import CountVectorizer, TfidfVectorizer\n",
    "from sklearn.svm import SVC\n",
    "from sklearn.linear_model import LogisticRegression\n",
    "from sklearn.pipeline import Pipeline\n",
    "from scipy.sparse import hstack\n",
    "from sklearn.metrics import classification_report, confusion_matrix, accuracy_score\n",
    "\n",
    "import seaborn as sns\n",
    "import matplotlib.pyplot as plt"
   ]
  },
  {
   "cell_type": "code",
   "execution_count": 3,
   "metadata": {
    "colab": {
     "base_uri": "https://localhost:8080/"
    },
    "executionInfo": {
     "elapsed": 1010,
     "status": "ok",
     "timestamp": 1759364730792,
     "user": {
      "displayName": "Arjuna Rivaldo",
      "userId": "01428253285493029486"
     },
     "user_tz": -540
    },
    "id": "uvlPX4bOPtgZ",
    "outputId": "94d6d2b8-d22c-4964-d26d-dcfd81ee632f"
   },
   "outputs": [],
   "source": [
    "# from google.colab import drive\n",
    "# drive.mount('/content/drive')"
   ]
  },
  {
   "cell_type": "markdown",
   "metadata": {
    "id": "HmhGqw30Pnge"
   },
   "source": [
    "# 2.Load Dataset"
   ]
  },
  {
   "cell_type": "code",
   "execution_count": null,
   "metadata": {
    "id": "CKzmlZjTlt57"
   },
   "outputs": [],
   "source": [
    "file_path = r\"E:\\My Drive\\Indonesia AI\\Fundamental NLP\\Project 1\\Data_Processed\\tweet_bersih.csv\"\n",
    "df = pd.read_csv(file_path)"
   ]
  },
  {
   "cell_type": "markdown",
   "metadata": {
    "id": "YBe1PMJ8Pngk"
   },
   "source": [
    "# 3.Persiapan Modelling"
   ]
  },
  {
   "cell_type": "code",
   "execution_count": 5,
   "metadata": {
    "id": "YNUBk9F_Pngl"
   },
   "outputs": [],
   "source": [
    "X = df['tweet_bersih']\n",
    "y = df['sentimen']"
   ]
  },
  {
   "cell_type": "code",
   "execution_count": 6,
   "metadata": {},
   "outputs": [
    {
     "name": "stdout",
     "output_type": "stream",
     "text": [
      "✅ Tahap Preprocessing Selesai!\n",
      "Bentuk (shape) matriks fitur X final: (1815, 801)\n",
      "Bentuk (shape) target y final: (1815,)\n",
      "\n",
      "Ukuran data latih(X_train): 1452\n",
      "Ukuran data uji(X_test): 363\n"
     ]
    }
   ],
   "source": [
    "# --- FEATURE ENGINEERING ---\n",
    "# 1. Membuat fitur dari teks (TF-IDF)\n",
    "vectorizer = TfidfVectorizer(max_features=800, min_df=3, ngram_range=(1, 3))\n",
    "X_tfidf = vectorizer.fit_transform(df['tweet_bersih'])\n",
    "\n",
    "# 2. Membuat fitur 'ada_tanda_tanya'\n",
    "X_feature_tanya = df['tweet_bersih'].apply(lambda x: 1 if '?' in str(x) else 0)\n",
    "\n",
    "# --- PENGGABUNGAN FITUR ✨---\n",
    "# Menggabungkan matriks TF-IDF dengan fitur baru kita.\n",
    "# .values.reshape(-1, 1) mengubah pandas Series menjadi format yang benar untuk digabungkan.\n",
    "X = hstack([X_tfidf, X_feature_tanya.values.reshape(-1,1)])\n",
    "\n",
    "# --- MENDEFINISIKAN TARGET ---\n",
    "y = df['sentimen']\n",
    "\n",
    "# --- SELESAI PREPROCESSING ---\n",
    "print(\"✅ Tahap Preprocessing Selesai!\")\n",
    "print(f\"Bentuk (shape) matriks fitur X final: {X.shape}\")\n",
    "print(f\"Bentuk (shape) target y final: {y.shape}\")\n",
    "\n",
    "# --- SPLITTING DATA ---\n",
    "X_train, X_test, y_train, y_test = train_test_split(X, y, test_size=0.2, random_state=16)\n",
    "print(f'\\nUkuran data latih(X_train): {X_train.shape[0]}')\n",
    "print(f'Ukuran data uji(X_test): {X_test.shape[0]}')"
   ]
  },
  {
   "cell_type": "code",
   "execution_count": 7,
   "metadata": {
    "id": "DzvkU-s2Pngl"
   },
   "outputs": [],
   "source": [
    "X_train, X_test, y_train, y_test = train_test_split(X, y, test_size=0.15, random_state=16, stratify=y)"
   ]
  },
  {
   "cell_type": "code",
   "execution_count": 8,
   "metadata": {
    "colab": {
     "base_uri": "https://localhost:8080/"
    },
    "executionInfo": {
     "elapsed": 8,
     "status": "ok",
     "timestamp": 1759364735572,
     "user": {
      "displayName": "Arjuna Rivaldo",
      "userId": "01428253285493029486"
     },
     "user_tz": -540
    },
    "id": "jXHuwpQcPngm",
    "outputId": "a5f8c7bf-3f7e-4ab9-825a-545a610f16e0"
   },
   "outputs": [
    {
     "name": "stdout",
     "output_type": "stream",
     "text": [
      "Ukuran data latih(X_train): 1542\n",
      "Ukuran data uji(X_test): 273\n"
     ]
    }
   ],
   "source": [
    "print(f'Ukuran data latih(X_train): {X_train.shape[0]}')\n",
    "print(f'Ukuran data uji(X_test): {X_test.shape[0]}')"
   ]
  },
  {
   "cell_type": "markdown",
   "metadata": {
    "id": "vGlgjLfwPngm"
   },
   "source": [
    "# 4.Membuat Pipeline & Training Model"
   ]
  },
  {
   "cell_type": "code",
   "execution_count": 9,
   "metadata": {
    "id": "-oA2jfjRPngm"
   },
   "outputs": [],
   "source": [
    "model_pipeline = SVC(kernel='linear', probability=True, random_state=16)\n"
   ]
  },
  {
   "cell_type": "code",
   "execution_count": 10,
   "metadata": {
    "colab": {
     "base_uri": "https://localhost:8080/"
    },
    "executionInfo": {
     "elapsed": 192,
     "status": "ok",
     "timestamp": 1759364808660,
     "user": {
      "displayName": "Arjuna Rivaldo",
      "userId": "01428253285493029486"
     },
     "user_tz": -540
    },
    "id": "FdEeJu0lPngn",
    "outputId": "a74c4acf-d439-4eb8-e74b-9c171146642d"
   },
   "outputs": [
    {
     "name": "stdout",
     "output_type": "stream",
     "text": [
      "Memulai training model SVC...\n",
      "Training selesai!\n"
     ]
    }
   ],
   "source": [
    "# Latih model dengan data training\n",
    "print(\"Memulai training model SVC...\")\n",
    "model_pipeline.fit(X_train, y_train)\n",
    "print(\"Training selesai!\")\n"
   ]
  },
  {
   "cell_type": "code",
   "execution_count": 11,
   "metadata": {
    "id": "A1sob7j2Pngo"
   },
   "outputs": [],
   "source": [
    "y_pred_test = model_pipeline.predict(X_test)\n",
    "y_pred_train = model_pipeline.predict(X_test)"
   ]
  },
  {
   "cell_type": "markdown",
   "metadata": {
    "id": "ZehK5v-IPngo"
   },
   "source": [
    "# 5.Evaluation"
   ]
  },
  {
   "cell_type": "code",
   "execution_count": 12,
   "metadata": {
    "colab": {
     "base_uri": "https://localhost:8080/",
     "height": 1000
    },
    "executionInfo": {
     "elapsed": 440,
     "status": "ok",
     "timestamp": 1759364811424,
     "user": {
      "displayName": "Arjuna Rivaldo",
      "userId": "01428253285493029486"
     },
     "user_tz": -540
    },
    "id": "JhPDuf-XPngo",
    "outputId": "31a04c8b-e7f3-483e-99e4-4d481853f461"
   },
   "outputs": [
    {
     "name": "stdout",
     "output_type": "stream",
     "text": [
      "\n",
      "--- Hasil Evaluasi Model SVC ---\n",
      "Akurasi Test: 0.6410\n",
      "Akurasi Train 0.8029\n",
      "\n",
      "Laporan Klasifikasi:\n",
      "              precision    recall  f1-score   support\n",
      "\n",
      "     negatif       0.61      0.69      0.65        90\n",
      "      netral       0.64      0.62      0.63        91\n",
      "     positif       0.68      0.62      0.65        92\n",
      "\n",
      "    accuracy                           0.64       273\n",
      "   macro avg       0.64      0.64      0.64       273\n",
      "weighted avg       0.64      0.64      0.64       273\n",
      "\n",
      "\n",
      "Confusion Matrix Data Test:\n"
     ]
    },
    {
     "data": {
      "image/png": "[encoded data removed]",
      "text/plain": [
       "<Figure size 800x600 with 2 Axes>"
      ]
     },
     "metadata": {},
     "output_type": "display_data"
    }
   ],
   "source": [
    "# 6. Melakukan Prediksi pada Data Test\n",
    "y_pred_test = model_pipeline.predict(X_test)\n",
    "y_pred_train = model_pipeline.predict(X_train)\n",
    "\n",
    "# 7. Mengevaluasi Performa Model\n",
    "print(\"\\n--- Hasil Evaluasi Model SVC ---\")\n",
    "print(f\"Akurasi Test: {accuracy_score(y_test, y_pred_test):.4f}\")\n",
    "print(f'Akurasi Train {accuracy_score(y_train, y_pred_train):.4f}')\n",
    "print(\"\\nLaporan Klasifikasi:\")\n",
    "print(classification_report(y_test, y_pred_test))\n",
    "\n",
    "# Membuat dan menampilkan Confusion Matrix\n",
    "print(\"\\nConfusion Matrix Data Test:\")\n",
    "cm = confusion_matrix(y_test, y_pred_test)\n",
    "plt.figure(figsize=(8, 6))\n",
    "sns.heatmap(cm, annot=True, fmt='d', cmap='Greens', xticklabels=model_pipeline.classes_, yticklabels=model_pipeline.classes_)\n",
    "plt.xlabel('Predicted Label')\n",
    "plt.ylabel('True Label')\n",
    "plt.title('Confusion Matrix - SVC')\n",
    "plt.show()"
   ]
  }
 ],
 "metadata": {
  "colab": {
   "provenance": []
  },
  "kernelspec": {
   "display_name": "base",
   "language": "python",
   "name": "python3"
  },
  "language_info": {
   "codemirror_mode": {
    "name": "ipython",
    "version": 3
   },
   "file_extension": ".py",
   "mimetype": "text/x-python",
   "name": "python",
   "nbconvert_exporter": "python",
   "pygments_lexer": "ipython3",
   "version": "3.13.5"
  }
 },
 "nbformat": 4,
 "nbformat_minor": 0
}
